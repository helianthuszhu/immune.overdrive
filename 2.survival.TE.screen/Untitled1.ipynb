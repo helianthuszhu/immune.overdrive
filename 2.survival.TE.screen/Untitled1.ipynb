{
 "cells": [
  {
   "cell_type": "code",
   "execution_count": 61,
   "metadata": {},
   "outputs": [],
   "source": [
    "###get the survival data\n",
    "CRC.survivaldata=read.table(\"/home/zhuxq/nas/Xiaoqiang/opti.data/1.CGC.TE.CRC.REdiscoverTE/clinical.data/COADREAD_survival.from.pan-cancer.Atlas.txt\",header = T,row.names = 1,sep = \"\\t\")"
   ]
  },
  {
   "cell_type": "code",
   "execution_count": 62,
   "metadata": {},
   "outputs": [],
   "source": [
    "###get the TE expression\n",
    "load(\"~/nas/Xiaoqiang/opti.data/1.CGC.TE.CRC.REdiscoverTE/output.plot/tmp.RData\")\n",
    "load('~/nas/Xiaoqiang/opti.data//1.CGC.TE.CRC.REdiscoverTE/stats.20200311/1.TE.used/TE.label.used.RData')"
   ]
  },
  {
   "cell_type": "code",
   "execution_count": 63,
   "metadata": {},
   "outputs": [
    {
     "data": {
      "text/html": [
       "<table>\n",
       "<caption>A data.frame: 6 × 5</caption>\n",
       "<thead>\n",
       "\t<tr><th></th><th scope=col>repName</th><th scope=col>repFamily</th><th scope=col>repClass</th><th scope=col>repClass.new</th><th scope=col>repClass.new2</th></tr>\n",
       "\t<tr><th></th><th scope=col>&lt;chr&gt;</th><th scope=col>&lt;chr&gt;</th><th scope=col>&lt;chr&gt;</th><th scope=col>&lt;chr&gt;</th><th scope=col>&lt;chr&gt;</th></tr>\n",
       "</thead>\n",
       "<tbody>\n",
       "\t<tr><th scope=row>7SK</th><td>7SK      </td><td>RNA           </td><td>RNA           </td><td>RNA           </td><td>other.repeats</td></tr>\n",
       "\t<tr><th scope=row>7SLRNA</th><td>7SLRNA   </td><td>srpRNA        </td><td>srpRNA        </td><td>srpRNA        </td><td>other.repeats</td></tr>\n",
       "\t<tr><th scope=row>A-rich</th><td>A-rich   </td><td>Low_complexity</td><td>Low_complexity</td><td>Low_complexity</td><td>other.repeats</td></tr>\n",
       "\t<tr><th scope=row>ACRO1</th><td>ACRO1    </td><td>acro          </td><td>Satellite     </td><td>Satellite     </td><td>Satellite    </td></tr>\n",
       "\t<tr><th scope=row>ALR/Alpha</th><td>ALR/Alpha</td><td>centr         </td><td>Satellite     </td><td>Satellite     </td><td>Satellite    </td></tr>\n",
       "\t<tr><th scope=row>Alu</th><td>Alu      </td><td>Alu           </td><td>SINE          </td><td>SINE          </td><td>SINE         </td></tr>\n",
       "</tbody>\n",
       "</table>\n"
      ],
      "text/latex": [
       "A data.frame: 6 × 5\n",
       "\\begin{tabular}{r|lllll}\n",
       "  & repName & repFamily & repClass & repClass.new & repClass.new2\\\\\n",
       "  & <chr> & <chr> & <chr> & <chr> & <chr>\\\\\n",
       "\\hline\n",
       "\t7SK & 7SK       & RNA            & RNA            & RNA            & other.repeats\\\\\n",
       "\t7SLRNA & 7SLRNA    & srpRNA         & srpRNA         & srpRNA         & other.repeats\\\\\n",
       "\tA-rich & A-rich    & Low\\_complexity & Low\\_complexity & Low\\_complexity & other.repeats\\\\\n",
       "\tACRO1 & ACRO1     & acro           & Satellite      & Satellite      & Satellite    \\\\\n",
       "\tALR/Alpha & ALR/Alpha & centr          & Satellite      & Satellite      & Satellite    \\\\\n",
       "\tAlu & Alu       & Alu            & SINE           & SINE           & SINE         \\\\\n",
       "\\end{tabular}\n"
      ],
      "text/markdown": [
       "\n",
       "A data.frame: 6 × 5\n",
       "\n",
       "| <!--/--> | repName &lt;chr&gt; | repFamily &lt;chr&gt; | repClass &lt;chr&gt; | repClass.new &lt;chr&gt; | repClass.new2 &lt;chr&gt; |\n",
       "|---|---|---|---|---|---|\n",
       "| 7SK | 7SK       | RNA            | RNA            | RNA            | other.repeats |\n",
       "| 7SLRNA | 7SLRNA    | srpRNA         | srpRNA         | srpRNA         | other.repeats |\n",
       "| A-rich | A-rich    | Low_complexity | Low_complexity | Low_complexity | other.repeats |\n",
       "| ACRO1 | ACRO1     | acro           | Satellite      | Satellite      | Satellite     |\n",
       "| ALR/Alpha | ALR/Alpha | centr          | Satellite      | Satellite      | Satellite     |\n",
       "| Alu | Alu       | Alu            | SINE           | SINE           | SINE          |\n",
       "\n"
      ],
      "text/plain": [
       "          repName   repFamily      repClass       repClass.new   repClass.new2\n",
       "7SK       7SK       RNA            RNA            RNA            other.repeats\n",
       "7SLRNA    7SLRNA    srpRNA         srpRNA         srpRNA         other.repeats\n",
       "A-rich    A-rich    Low_complexity Low_complexity Low_complexity other.repeats\n",
       "ACRO1     ACRO1     acro           Satellite      Satellite      Satellite    \n",
       "ALR/Alpha ALR/Alpha centr          Satellite      Satellite      Satellite    \n",
       "Alu       Alu       Alu            SINE           SINE           SINE         "
      ]
     },
     "metadata": {},
     "output_type": "display_data"
    },
    {
     "data": {
      "text/plain": [
       "\n",
       "          DNA          LINE           LTR other.repeats    Retroposon \n",
       "          237           171           578           132             6 \n",
       "    Satellite          SINE \n",
       "           20            60 "
      ]
     },
     "metadata": {},
     "output_type": "display_data"
    },
    {
     "data": {
      "text/html": [
       "<style>\n",
       ".list-inline {list-style: none; margin:0; padding: 0}\n",
       ".list-inline>li {display: inline-block}\n",
       ".list-inline>li:not(:last-child)::after {content: \"\\00b7\"; padding: 0 .5ex}\n",
       "</style>\n",
       "<ol class=list-inline><li>1072</li><li>5</li></ol>\n"
      ],
      "text/latex": [
       "\\begin{enumerate*}\n",
       "\\item 1072\n",
       "\\item 5\n",
       "\\end{enumerate*}\n"
      ],
      "text/markdown": [
       "1. 1072\n",
       "2. 5\n",
       "\n",
       "\n"
      ],
      "text/plain": [
       "[1] 1072    5"
      ]
     },
     "metadata": {},
     "output_type": "display_data"
    },
    {
     "data": {
      "text/html": [
       "<table>\n",
       "<caption>A data.frame: 4 × 4</caption>\n",
       "<thead>\n",
       "\t<tr><th></th><th scope=col>ACRO1</th><th scope=col>ALR/Alpha</th><th scope=col>Alu</th><th scope=col>AluJb</th></tr>\n",
       "\t<tr><th></th><th scope=col>&lt;dbl&gt;</th><th scope=col>&lt;dbl&gt;</th><th scope=col>&lt;dbl&gt;</th><th scope=col>&lt;dbl&gt;</th></tr>\n",
       "</thead>\n",
       "<tbody>\n",
       "\t<tr><th scope=row>TCGA-3L-AA1B-01</th><td>-1.23700135</td><td>3.297682</td><td>-0.7258298</td><td>7.493645</td></tr>\n",
       "\t<tr><th scope=row>TCGA-4N-A93T-01</th><td>-0.81356339</td><td>1.955835</td><td>-0.6162215</td><td>7.978005</td></tr>\n",
       "\t<tr><th scope=row>TCGA-4T-AA8H-01</th><td> 2.33785614</td><td>2.562055</td><td>-0.9357847</td><td>7.784363</td></tr>\n",
       "\t<tr><th scope=row>TCGA-5M-AAT4-01</th><td>-0.04531771</td><td>3.181040</td><td>-1.0839568</td><td>7.568818</td></tr>\n",
       "</tbody>\n",
       "</table>\n"
      ],
      "text/latex": [
       "A data.frame: 4 × 4\n",
       "\\begin{tabular}{r|llll}\n",
       "  & ACRO1 & ALR/Alpha & Alu & AluJb\\\\\n",
       "  & <dbl> & <dbl> & <dbl> & <dbl>\\\\\n",
       "\\hline\n",
       "\tTCGA-3L-AA1B-01 & -1.23700135 & 3.297682 & -0.7258298 & 7.493645\\\\\n",
       "\tTCGA-4N-A93T-01 & -0.81356339 & 1.955835 & -0.6162215 & 7.978005\\\\\n",
       "\tTCGA-4T-AA8H-01 &  2.33785614 & 2.562055 & -0.9357847 & 7.784363\\\\\n",
       "\tTCGA-5M-AAT4-01 & -0.04531771 & 3.181040 & -1.0839568 & 7.568818\\\\\n",
       "\\end{tabular}\n"
      ],
      "text/markdown": [
       "\n",
       "A data.frame: 4 × 4\n",
       "\n",
       "| <!--/--> | ACRO1 &lt;dbl&gt; | ALR/Alpha &lt;dbl&gt; | Alu &lt;dbl&gt; | AluJb &lt;dbl&gt; |\n",
       "|---|---|---|---|---|\n",
       "| TCGA-3L-AA1B-01 | -1.23700135 | 3.297682 | -0.7258298 | 7.493645 |\n",
       "| TCGA-4N-A93T-01 | -0.81356339 | 1.955835 | -0.6162215 | 7.978005 |\n",
       "| TCGA-4T-AA8H-01 |  2.33785614 | 2.562055 | -0.9357847 | 7.784363 |\n",
       "| TCGA-5M-AAT4-01 | -0.04531771 | 3.181040 | -1.0839568 | 7.568818 |\n",
       "\n"
      ],
      "text/plain": [
       "                ACRO1       ALR/Alpha Alu        AluJb   \n",
       "TCGA-3L-AA1B-01 -1.23700135 3.297682  -0.7258298 7.493645\n",
       "TCGA-4N-A93T-01 -0.81356339 1.955835  -0.6162215 7.978005\n",
       "TCGA-4T-AA8H-01  2.33785614 2.562055  -0.9357847 7.784363\n",
       "TCGA-5M-AAT4-01 -0.04531771 3.181040  -1.0839568 7.568818"
      ]
     },
     "metadata": {},
     "output_type": "display_data"
    },
    {
     "data": {
      "text/html": [
       "<style>\n",
       ".list-inline {list-style: none; margin:0; padding: 0}\n",
       ".list-inline>li {display: inline-block}\n",
       ".list-inline>li:not(:last-child)::after {content: \"\\00b7\"; padding: 0 .5ex}\n",
       "</style>\n",
       "<ol class=list-inline><li>617</li><li>1072</li></ol>\n"
      ],
      "text/latex": [
       "\\begin{enumerate*}\n",
       "\\item 617\n",
       "\\item 1072\n",
       "\\end{enumerate*}\n"
      ],
      "text/markdown": [
       "1. 617\n",
       "2. 1072\n",
       "\n",
       "\n"
      ],
      "text/plain": [
       "[1]  617 1072"
      ]
     },
     "metadata": {},
     "output_type": "display_data"
    }
   ],
   "source": [
    "###inclue TE used\n",
    "head(cdrep)\n",
    "table(cdrep$repClass.new2)\n",
    "cdrep.sel=subset(cdrep, !(repClass.new2==\"other.repeats\"))\n",
    "dim(cdrep.sel)\n",
    "###TE matrix selection\n",
    "te.tumorexp.sel=te.tumorexp[, colnames(te.tumorexp) %in% rownames(cdrep.sel)]\n",
    "te.tumorexp.sel=te.tumorexp.sel[-which(rownames(te.tumorexp.sel)==\"TCGA-CM-4748-01\"),]\n",
    "te.tumorexp.sel[1:4,1:4]\n",
    "dim(te.tumorexp.sel)\n"
   ]
  },
  {
   "cell_type": "code",
   "execution_count": 64,
   "metadata": {},
   "outputs": [
    {
     "data": {
      "text/html": [
       "591"
      ],
      "text/latex": [
       "591"
      ],
      "text/markdown": [
       "591"
      ],
      "text/plain": [
       "[1] 591"
      ]
     },
     "metadata": {},
     "output_type": "display_data"
    }
   ],
   "source": [
    "#screen for OS\n",
    "#OS\n",
    "surOS.tumor=subset(CRC.survivaldata,OS.time > 0 & OS>= 0)\n",
    "idsur=intersect(rownames(te.tumorexp.sel),rownames(surOS.tumor))\n",
    "length(idsur)\n",
    "cbOSdata=cbind(surOS.tumor[idsur,2:3],te.tumorexp.sel[idsur,])"
   ]
  },
  {
   "cell_type": "code",
   "execution_count": 65,
   "metadata": {},
   "outputs": [
    {
     "data": {
      "text/html": [
       "<style>\n",
       ".list-inline {list-style: none; margin:0; padding: 0}\n",
       ".list-inline>li {display: inline-block}\n",
       ".list-inline>li:not(:last-child)::after {content: \"\\00b7\"; padding: 0 .5ex}\n",
       "</style>\n",
       "<ol class=list-inline><li>10</li><li>131</li></ol>\n"
      ],
      "text/latex": [
       "\\begin{enumerate*}\n",
       "\\item 10\n",
       "\\item 131\n",
       "\\end{enumerate*}\n"
      ],
      "text/markdown": [
       "1. 10\n",
       "2. 131\n",
       "\n",
       "\n"
      ],
      "text/plain": [
       "[1]  10 131"
      ]
     },
     "metadata": {},
     "output_type": "display_data"
    }
   ],
   "source": [
    "##########  useful\n",
    "cox_results <- apply(cbOSdata[,-c(1,2)] , 2, function(values1){\n",
    "  group=ifelse(values1>median(values1),'Migh','low')\n",
    "  #group=values1\n",
    "  survival_dat <- data.frame(group=group,\n",
    "                             os.status=cbOSdata$OS,  #CHANGE\n",
    "                             os=cbOSdata$OS.time,   #CHANGE\n",
    "                             #age=clin$age,\n",
    "                             #gender=gender,\n",
    "                             #stage=stage,\n",
    "                             #smoking=smoking,\n",
    "                             stringsAsFactors = F)\n",
    "  library(survival)\n",
    "  my.surv <- Surv(survival_dat$os,survival_dat$os.status)\n",
    "  #m=coxph(my.surv ~ group+age+gender+stage+smoking, data =  survival_dat)\n",
    "  m=coxph(my.surv ~ group, data =  survival_dat)\n",
    "  beta <- coef(m)\n",
    "  se <- sqrt(diag(vcov(m)))\n",
    "  HR <- exp(beta)\n",
    "  HRse <- HR * se\n",
    "  \n",
    "  #summary(m)\n",
    "  tmp <- round(cbind(coef = beta, se = se, z = beta/se, p = 1 - pchisq((beta/se)^2, 1),\n",
    "                     HR = HR, HRse = HRse,\n",
    "                     HRz = (HR - 1) / HRse, HRp = 1 - pchisq(((HR - 1)/HRse)^2, 1),\n",
    "                     HRCILL = exp(beta - qnorm(.975, 0, 1) * se),\n",
    "                     HRCIUL = exp(beta + qnorm(.975, 0, 1) * se)), 3)\n",
    "  return(tmp['groupMigh',])\n",
    "  \n",
    "})\n",
    "Results.os=cox_results[,cox_results[4,]<0.05]\n",
    "dim(Results.os)"
   ]
  },
  {
   "cell_type": "code",
   "execution_count": 66,
   "metadata": {},
   "outputs": [
    {
     "data": {
      "text/html": [
       "569"
      ],
      "text/latex": [
       "569"
      ],
      "text/markdown": [
       "569"
      ],
      "text/plain": [
       "[1] 569"
      ]
     },
     "metadata": {},
     "output_type": "display_data"
    }
   ],
   "source": [
    "#DSS\n",
    "surDSS.tumor=subset(CRC.survivaldata,DSS.time > 0 & DSS >=0)\n",
    "idsur=intersect(rownames(te.tumorexp.sel),rownames(surDSS.tumor))\n",
    "length(idsur)\n",
    "cbOSdata=cbind(surDSS.tumor[idsur,4:5],te.tumorexp.sel[idsur,])     ####570 SAMPLES"
   ]
  },
  {
   "cell_type": "code",
   "execution_count": 67,
   "metadata": {},
   "outputs": [
    {
     "data": {
      "text/html": [
       "<style>\n",
       ".list-inline {list-style: none; margin:0; padding: 0}\n",
       ".list-inline>li {display: inline-block}\n",
       ".list-inline>li:not(:last-child)::after {content: \"\\00b7\"; padding: 0 .5ex}\n",
       "</style>\n",
       "<ol class=list-inline><li>10</li><li>157</li></ol>\n"
      ],
      "text/latex": [
       "\\begin{enumerate*}\n",
       "\\item 10\n",
       "\\item 157\n",
       "\\end{enumerate*}\n"
      ],
      "text/markdown": [
       "1. 10\n",
       "2. 157\n",
       "\n",
       "\n"
      ],
      "text/plain": [
       "[1]  10 157"
      ]
     },
     "metadata": {},
     "output_type": "display_data"
    }
   ],
   "source": [
    "##########  useful\n",
    "cox_results <- apply(cbOSdata[,-c(1,2)] , 2, function(values1){\n",
    "  group=ifelse(values1>median(values1),'Migh','low')\n",
    "  #group=values1\n",
    "  survival_dat <- data.frame(group=group,\n",
    "                             os.status=cbOSdata$DSS,  #CHANGE\n",
    "                             os=cbOSdata$DSS.time,   #CHANGE\n",
    "                             #age=clin$age,\n",
    "                             #gender=gender,\n",
    "                             #stage=stage,\n",
    "                             #smoking=smoking,\n",
    "                             stringsAsFactors = F)\n",
    "  library(survival)\n",
    "  my.surv <- Surv(survival_dat$os,survival_dat$os.status)\n",
    "  #m=coxph(my.surv ~ group+age+gender+stage+smoking, data =  survival_dat)\n",
    "  m=coxph(my.surv ~ group, data =  survival_dat)\n",
    "  beta <- coef(m)\n",
    "  se <- sqrt(diag(vcov(m)))\n",
    "  HR <- exp(beta)\n",
    "  HRse <- HR * se\n",
    "  \n",
    "  #summary(m)\n",
    "  tmp <- round(cbind(coef = beta, se = se, z = beta/se, p = 1 - pchisq((beta/se)^2, 1),\n",
    "                     HR = HR, HRse = HRse,\n",
    "                     HRz = (HR - 1) / HRse, HRp = 1 - pchisq(((HR - 1)/HRse)^2, 1),\n",
    "                     HRCILL = exp(beta - qnorm(.975, 0, 1) * se),\n",
    "                     HRCIUL = exp(beta + qnorm(.975, 0, 1) * se)), 3)\n",
    "  return(tmp['groupMigh',])\n",
    "  \n",
    "})\n",
    "Results.dss=cox_results[,cox_results[4,]<0.05]\n",
    "dim(Results.dss)"
   ]
  },
  {
   "cell_type": "code",
   "execution_count": 68,
   "metadata": {},
   "outputs": [
    {
     "data": {
      "text/html": [
       "233"
      ],
      "text/latex": [
       "233"
      ],
      "text/markdown": [
       "233"
      ],
      "text/plain": [
       "[1] 233"
      ]
     },
     "metadata": {},
     "output_type": "display_data"
    }
   ],
   "source": [
    "#DFI\n",
    "surDFI.tumor=subset(CRC.survivaldata,DFI.time > 0 & DFI >=0)\n",
    "idsur=intersect(rownames(te.tumorexp.sel),rownames(surDFI.tumor))\n",
    "length(idsur)\n",
    "cbOSdata=cbind(surDFI.tumor[idsur,6:7],te.tumorexp.sel[idsur,])     #####234 SAMPLES"
   ]
  },
  {
   "cell_type": "code",
   "execution_count": 69,
   "metadata": {},
   "outputs": [
    {
     "data": {
      "text/html": [
       "<style>\n",
       ".list-inline {list-style: none; margin:0; padding: 0}\n",
       ".list-inline>li {display: inline-block}\n",
       ".list-inline>li:not(:last-child)::after {content: \"\\00b7\"; padding: 0 .5ex}\n",
       "</style>\n",
       "<ol class=list-inline><li>10</li><li>140</li></ol>\n"
      ],
      "text/latex": [
       "\\begin{enumerate*}\n",
       "\\item 10\n",
       "\\item 140\n",
       "\\end{enumerate*}\n"
      ],
      "text/markdown": [
       "1. 10\n",
       "2. 140\n",
       "\n",
       "\n"
      ],
      "text/plain": [
       "[1]  10 140"
      ]
     },
     "metadata": {},
     "output_type": "display_data"
    }
   ],
   "source": [
    "##########  useful\n",
    "cox_results <- apply(cbOSdata[,-c(1,2)] , 2, function(values1){\n",
    "  group=ifelse(values1>median(values1),'Migh','low')\n",
    "  #group=values1\n",
    "  survival_dat <- data.frame(group=group,\n",
    "                             os.status=cbOSdata$DFI,  #CHANGE\n",
    "                             os=cbOSdata$DFI.time,   #CHANGE\n",
    "                             #age=clin$age,\n",
    "                             #gender=gender,\n",
    "                             #stage=stage,\n",
    "                             #smoking=smoking,\n",
    "                             stringsAsFactors = F)\n",
    "  library(survival)\n",
    "  my.surv <- Surv(survival_dat$os,survival_dat$os.status)\n",
    "  #m=coxph(my.surv ~ group+age+gender+stage+smoking, data =  survival_dat)\n",
    "  m=coxph(my.surv ~ group, data =  survival_dat)\n",
    "  beta <- coef(m)\n",
    "  se <- sqrt(diag(vcov(m)))\n",
    "  HR <- exp(beta)\n",
    "  HRse <- HR * se\n",
    "  \n",
    "  #summary(m)\n",
    "  tmp <- round(cbind(coef = beta, se = se, z = beta/se, p = 1 - pchisq((beta/se)^2, 1),\n",
    "                     HR = HR, HRse = HRse,\n",
    "                     HRz = (HR - 1) / HRse, HRp = 1 - pchisq(((HR - 1)/HRse)^2, 1),\n",
    "                     HRCILL = exp(beta - qnorm(.975, 0, 1) * se),\n",
    "                     HRCIUL = exp(beta + qnorm(.975, 0, 1) * se)), 3)\n",
    "  return(tmp['groupMigh',])\n",
    "  \n",
    "})\n",
    "Results.dfi=cox_results[,cox_results[4,]<0.05]\n",
    "dim(Results.dfi)"
   ]
  },
  {
   "cell_type": "code",
   "execution_count": 70,
   "metadata": {},
   "outputs": [
    {
     "data": {
      "text/html": [
       "589"
      ],
      "text/latex": [
       "589"
      ],
      "text/markdown": [
       "589"
      ],
      "text/plain": [
       "[1] 589"
      ]
     },
     "metadata": {},
     "output_type": "display_data"
    }
   ],
   "source": [
    "#PFI PFI.time\n",
    "surPFI.tumor=subset(CRC.survivaldata,PFI.time > 0 & PFI >= 0)\n",
    "idsur=intersect(rownames(te.tumorexp.sel),rownames(surPFI.tumor))\n",
    "length(idsur)\n",
    "cbOSdata=cbind(surPFI.tumor[idsur,8:9],te.tumorexp.sel[idsur,])     #####590 SAMPPLES\n",
    "##"
   ]
  },
  {
   "cell_type": "code",
   "execution_count": 71,
   "metadata": {},
   "outputs": [
    {
     "data": {
      "text/html": [
       "<style>\n",
       ".list-inline {list-style: none; margin:0; padding: 0}\n",
       ".list-inline>li {display: inline-block}\n",
       ".list-inline>li:not(:last-child)::after {content: \"\\00b7\"; padding: 0 .5ex}\n",
       "</style>\n",
       "<ol class=list-inline><li>10</li><li>161</li></ol>\n"
      ],
      "text/latex": [
       "\\begin{enumerate*}\n",
       "\\item 10\n",
       "\\item 161\n",
       "\\end{enumerate*}\n"
      ],
      "text/markdown": [
       "1. 10\n",
       "2. 161\n",
       "\n",
       "\n"
      ],
      "text/plain": [
       "[1]  10 161"
      ]
     },
     "metadata": {},
     "output_type": "display_data"
    }
   ],
   "source": [
    "##########  useful\n",
    "cox_results <- apply(cbOSdata[,-c(1,2)] , 2, function(values1){\n",
    "  group=ifelse(values1>median(values1),'Migh','low')\n",
    "  #group=values1\n",
    "  survival_dat <- data.frame(group=group,\n",
    "                             os.status=cbOSdata$PFI,  #CHANGE\n",
    "                             os=cbOSdata$PFI.time,   #CHANGE\n",
    "                             #age=clin$age,\n",
    "                             #gender=gender,\n",
    "                             #stage=stage,\n",
    "                             #smoking=smoking,\n",
    "                             stringsAsFactors = F)\n",
    "  library(survival)\n",
    "  my.surv <- Surv(survival_dat$os,survival_dat$os.status)\n",
    "  #m=coxph(my.surv ~ group+age+gender+stage+smoking, data =  survival_dat)\n",
    "  m=coxph(my.surv ~ group, data =  survival_dat)\n",
    "  beta <- coef(m)\n",
    "  se <- sqrt(diag(vcov(m)))\n",
    "  HR <- exp(beta)\n",
    "  HRse <- HR * se\n",
    "  \n",
    "  #summary(m)\n",
    "  tmp <- round(cbind(coef = beta, se = se, z = beta/se, p = 1 - pchisq((beta/se)^2, 1),\n",
    "                     HR = HR, HRse = HRse,\n",
    "                     HRz = (HR - 1) / HRse, HRp = 1 - pchisq(((HR - 1)/HRse)^2, 1),\n",
    "                     HRCILL = exp(beta - qnorm(.975, 0, 1) * se),\n",
    "                     HRCIUL = exp(beta + qnorm(.975, 0, 1) * se)), 3)\n",
    "  return(tmp['groupMigh',])\n",
    "  \n",
    "})\n",
    "Results.pfi=cox_results[,cox_results[4,]<0.05]\n",
    "dim(Results.pfi)"
   ]
  },
  {
   "cell_type": "code",
   "execution_count": 72,
   "metadata": {},
   "outputs": [],
   "source": [
    "save(Results.os,Results.dfi,Results.pfi,Results.dss,\n",
    "     file=\"/home/zhuxq/nas/Xiaoqiang/opti.data/1.CGC.TE.CRC.REdiscoverTE/stats.20200311/2.survival.TE.screen/survival.screen.subfamily.level.1072s.2.RData\")"
   ]
  },
  {
   "cell_type": "code",
   "execution_count": 73,
   "metadata": {},
   "outputs": [
    {
     "data": {
      "text/html": [
       "<style>\n",
       ".list-inline {list-style: none; margin:0; padding: 0}\n",
       ".list-inline>li {display: inline-block}\n",
       ".list-inline>li:not(:last-child)::after {content: \"\\00b7\"; padding: 0 .5ex}\n",
       "</style>\n",
       "<ol class=list-inline><li>617</li><li>47</li></ol>\n"
      ],
      "text/latex": [
       "\\begin{enumerate*}\n",
       "\\item 617\n",
       "\\item 47\n",
       "\\end{enumerate*}\n"
      ],
      "text/markdown": [
       "1. 617\n",
       "2. 47\n",
       "\n",
       "\n"
      ],
      "text/plain": [
       "[1] 617  47"
      ]
     },
     "metadata": {},
     "output_type": "display_data"
    }
   ],
   "source": [
    "###screen at family level\n",
    "#######\n",
    "###############\n",
    "tefamily.tumorexp.sel=tefamily.tumorexp.filterd[, colnames(tefamily.tumorexp.filterd) %in% cdrep.sel$repFamily ]\n",
    "tefamily.tumorexp.sel=tefamily.tumorexp.sel[-which(rownames(tefamily.tumorexp.sel)==\"TCGA-CM-4748-01\"),]\n",
    "dim(tefamily.tumorexp.sel)"
   ]
  },
  {
   "cell_type": "code",
   "execution_count": 74,
   "metadata": {},
   "outputs": [
    {
     "data": {
      "text/html": [
       "591"
      ],
      "text/latex": [
       "591"
      ],
      "text/markdown": [
       "591"
      ],
      "text/plain": [
       "[1] 591"
      ]
     },
     "metadata": {},
     "output_type": "display_data"
    }
   ],
   "source": [
    "#screen for OS\n",
    "#OS\n",
    "surOS.tumor=subset(CRC.survivaldata,OS.time > 0 & OS>= 0)\n",
    "idsur=intersect(rownames(tefamily.tumorexp.sel),rownames(surOS.tumor))\n",
    "length(idsur)\n",
    "cbOSdata=cbind(surOS.tumor[idsur,2:3],tefamily.tumorexp.sel[idsur,])"
   ]
  },
  {
   "cell_type": "code",
   "execution_count": 75,
   "metadata": {},
   "outputs": [
    {
     "data": {
      "text/html": [
       "<style>\n",
       ".list-inline {list-style: none; margin:0; padding: 0}\n",
       ".list-inline>li {display: inline-block}\n",
       ".list-inline>li:not(:last-child)::after {content: \"\\00b7\"; padding: 0 .5ex}\n",
       "</style>\n",
       "<ol class=list-inline><li>10</li><li>7</li></ol>\n"
      ],
      "text/latex": [
       "\\begin{enumerate*}\n",
       "\\item 10\n",
       "\\item 7\n",
       "\\end{enumerate*}\n"
      ],
      "text/markdown": [
       "1. 10\n",
       "2. 7\n",
       "\n",
       "\n"
      ],
      "text/plain": [
       "[1] 10  7"
      ]
     },
     "metadata": {},
     "output_type": "display_data"
    }
   ],
   "source": [
    "##########  useful\n",
    "cox_results <- apply(cbOSdata[,-c(1,2)] , 2, function(values1){\n",
    "  group=ifelse(values1>median(values1),'Migh','low')\n",
    "  #group=values1\n",
    "  survival_dat <- data.frame(group=group,\n",
    "                             os.status=cbOSdata$OS,  #CHANGE\n",
    "                             os=cbOSdata$OS.time,   #CHANGE\n",
    "                             #age=clin$age,\n",
    "                             #gender=gender,\n",
    "                             #stage=stage,\n",
    "                             #smoking=smoking,\n",
    "                             stringsAsFactors = F)\n",
    "  library(survival)\n",
    "  my.surv <- Surv(survival_dat$os,survival_dat$os.status)\n",
    "  #m=coxph(my.surv ~ group+age+gender+stage+smoking, data =  survival_dat)\n",
    "  m=coxph(my.surv ~ group, data =  survival_dat)\n",
    "  beta <- coef(m)\n",
    "  se <- sqrt(diag(vcov(m)))\n",
    "  HR <- exp(beta)\n",
    "  HRse <- HR * se\n",
    "  \n",
    "  #summary(m)\n",
    "  tmp <- round(cbind(coef = beta, se = se, z = beta/se, p = 1 - pchisq((beta/se)^2, 1),\n",
    "                     HR = HR, HRse = HRse,\n",
    "                     HRz = (HR - 1) / HRse, HRp = 1 - pchisq(((HR - 1)/HRse)^2, 1),\n",
    "                     HRCILL = exp(beta - qnorm(.975, 0, 1) * se),\n",
    "                     HRCIUL = exp(beta + qnorm(.975, 0, 1) * se)), 3)\n",
    "  return(tmp['groupMigh',])\n",
    "  \n",
    "})\n",
    "Results.os.family=cox_results[,cox_results[4,]<0.05]\n",
    "dim(Results.os.family)"
   ]
  },
  {
   "cell_type": "code",
   "execution_count": 76,
   "metadata": {},
   "outputs": [
    {
     "data": {
      "text/html": [
       "569"
      ],
      "text/latex": [
       "569"
      ],
      "text/markdown": [
       "569"
      ],
      "text/plain": [
       "[1] 569"
      ]
     },
     "metadata": {},
     "output_type": "display_data"
    }
   ],
   "source": [
    "#DSS\n",
    "surDSS.tumor=subset(CRC.survivaldata,DSS.time > 0 & DSS >=0)\n",
    "idsur=intersect(rownames(tefamily.tumorexp.sel),rownames(surDSS.tumor))\n",
    "length(idsur)\n",
    "cbOSdata=cbind(surDSS.tumor[idsur,4:5],tefamily.tumorexp.sel[idsur,])     ####570 SAMPLES"
   ]
  },
  {
   "cell_type": "code",
   "execution_count": 77,
   "metadata": {},
   "outputs": [
    {
     "data": {
      "text/html": [
       "<style>\n",
       ".list-inline {list-style: none; margin:0; padding: 0}\n",
       ".list-inline>li {display: inline-block}\n",
       ".list-inline>li:not(:last-child)::after {content: \"\\00b7\"; padding: 0 .5ex}\n",
       "</style>\n",
       "<ol class=list-inline><li>10</li><li>8</li></ol>\n"
      ],
      "text/latex": [
       "\\begin{enumerate*}\n",
       "\\item 10\n",
       "\\item 8\n",
       "\\end{enumerate*}\n"
      ],
      "text/markdown": [
       "1. 10\n",
       "2. 8\n",
       "\n",
       "\n"
      ],
      "text/plain": [
       "[1] 10  8"
      ]
     },
     "metadata": {},
     "output_type": "display_data"
    }
   ],
   "source": [
    "##########  useful\n",
    "cox_results <- apply(cbOSdata[,-c(1,2)] , 2, function(values1){\n",
    "  group=ifelse(values1>median(values1),'Migh','low')\n",
    "  #group=values1\n",
    "  survival_dat <- data.frame(group=group,\n",
    "                             os.status=cbOSdata$DSS,  #CHANGE\n",
    "                             os=cbOSdata$DSS.time,   #CHANGE\n",
    "                             #age=clin$age,\n",
    "                             #gender=gender,\n",
    "                             #stage=stage,\n",
    "                             #smoking=smoking,\n",
    "                             stringsAsFactors = F)\n",
    "  library(survival)\n",
    "  my.surv <- Surv(survival_dat$os,survival_dat$os.status)\n",
    "  #m=coxph(my.surv ~ group+age+gender+stage+smoking, data =  survival_dat)\n",
    "  m=coxph(my.surv ~ group, data =  survival_dat)\n",
    "  beta <- coef(m)\n",
    "  se <- sqrt(diag(vcov(m)))\n",
    "  HR <- exp(beta)\n",
    "  HRse <- HR * se\n",
    "  \n",
    "  #summary(m)\n",
    "  tmp <- round(cbind(coef = beta, se = se, z = beta/se, p = 1 - pchisq((beta/se)^2, 1),\n",
    "                     HR = HR, HRse = HRse,\n",
    "                     HRz = (HR - 1) / HRse, HRp = 1 - pchisq(((HR - 1)/HRse)^2, 1),\n",
    "                     HRCILL = exp(beta - qnorm(.975, 0, 1) * se),\n",
    "                     HRCIUL = exp(beta + qnorm(.975, 0, 1) * se)), 3)\n",
    "  return(tmp['groupMigh',])\n",
    "  \n",
    "})\n",
    "Results.dss.family=cox_results[,cox_results[4,]<0.05]\n",
    "dim(Results.dss.family)"
   ]
  },
  {
   "cell_type": "code",
   "execution_count": 78,
   "metadata": {},
   "outputs": [
    {
     "data": {
      "text/html": [
       "233"
      ],
      "text/latex": [
       "233"
      ],
      "text/markdown": [
       "233"
      ],
      "text/plain": [
       "[1] 233"
      ]
     },
     "metadata": {},
     "output_type": "display_data"
    }
   ],
   "source": [
    "#DFI\n",
    "surDFI.tumor=subset(CRC.survivaldata,DFI.time > 0 & DFI >=0)\n",
    "idsur=intersect(rownames(tefamily.tumorexp.sel),rownames(surDFI.tumor))\n",
    "length(idsur)\n",
    "cbOSdata=cbind(surDFI.tumor[idsur,6:7],tefamily.tumorexp.sel[idsur,])     #####234 SAMPLES"
   ]
  },
  {
   "cell_type": "code",
   "execution_count": 79,
   "metadata": {},
   "outputs": [
    {
     "data": {
      "text/html": [
       "<style>\n",
       ".list-inline {list-style: none; margin:0; padding: 0}\n",
       ".list-inline>li {display: inline-block}\n",
       ".list-inline>li:not(:last-child)::after {content: \"\\00b7\"; padding: 0 .5ex}\n",
       "</style>\n",
       "<ol class=list-inline><li>10</li><li>6</li></ol>\n"
      ],
      "text/latex": [
       "\\begin{enumerate*}\n",
       "\\item 10\n",
       "\\item 6\n",
       "\\end{enumerate*}\n"
      ],
      "text/markdown": [
       "1. 10\n",
       "2. 6\n",
       "\n",
       "\n"
      ],
      "text/plain": [
       "[1] 10  6"
      ]
     },
     "metadata": {},
     "output_type": "display_data"
    }
   ],
   "source": [
    "##########  useful\n",
    "cox_results <- apply(cbOSdata[,-c(1,2)] , 2, function(values1){\n",
    "  group=ifelse(values1>median(values1),'Migh','low')\n",
    "  #group=values1\n",
    "  survival_dat <- data.frame(group=group,\n",
    "                             os.status=cbOSdata$DFI,  #CHANGE\n",
    "                             os=cbOSdata$DFI.time,   #CHANGE\n",
    "                             #age=clin$age,\n",
    "                             #gender=gender,\n",
    "                             #stage=stage,\n",
    "                             #smoking=smoking,\n",
    "                             stringsAsFactors = F)\n",
    "  library(survival)\n",
    "  my.surv <- Surv(survival_dat$os,survival_dat$os.status)\n",
    "  #m=coxph(my.surv ~ group+age+gender+stage+smoking, data =  survival_dat)\n",
    "  m=coxph(my.surv ~ group, data =  survival_dat)\n",
    "  beta <- coef(m)\n",
    "  se <- sqrt(diag(vcov(m)))\n",
    "  HR <- exp(beta)\n",
    "  HRse <- HR * se\n",
    "  \n",
    "  #summary(m)\n",
    "  tmp <- round(cbind(coef = beta, se = se, z = beta/se, p = 1 - pchisq((beta/se)^2, 1),\n",
    "                     HR = HR, HRse = HRse,\n",
    "                     HRz = (HR - 1) / HRse, HRp = 1 - pchisq(((HR - 1)/HRse)^2, 1),\n",
    "                     HRCILL = exp(beta - qnorm(.975, 0, 1) * se),\n",
    "                     HRCIUL = exp(beta + qnorm(.975, 0, 1) * se)), 3)\n",
    "  return(tmp['groupMigh',])\n",
    "  \n",
    "})\n",
    "Results.dfi.family=cox_results[,cox_results[4,]<0.05]\n",
    "dim(Results.dfi.family)"
   ]
  },
  {
   "cell_type": "code",
   "execution_count": 80,
   "metadata": {},
   "outputs": [
    {
     "data": {
      "text/html": [
       "589"
      ],
      "text/latex": [
       "589"
      ],
      "text/markdown": [
       "589"
      ],
      "text/plain": [
       "[1] 589"
      ]
     },
     "metadata": {},
     "output_type": "display_data"
    }
   ],
   "source": [
    "#PFI PFI.time\n",
    "surPFI.tumor=subset(CRC.survivaldata,PFI.time > 0 & PFI >= 0)\n",
    "idsur=intersect(rownames(tefamily.tumorexp.sel),rownames(surPFI.tumor))\n",
    "length(idsur)\n",
    "cbOSdata=cbind(surPFI.tumor[idsur,8:9],tefamily.tumorexp.sel[idsur,])     #####590 SAMPPLES\n",
    "##"
   ]
  },
  {
   "cell_type": "code",
   "execution_count": 81,
   "metadata": {},
   "outputs": [
    {
     "data": {
      "text/html": [
       "<style>\n",
       ".list-inline {list-style: none; margin:0; padding: 0}\n",
       ".list-inline>li {display: inline-block}\n",
       ".list-inline>li:not(:last-child)::after {content: \"\\00b7\"; padding: 0 .5ex}\n",
       "</style>\n",
       "<ol class=list-inline><li>10</li><li>10</li></ol>\n"
      ],
      "text/latex": [
       "\\begin{enumerate*}\n",
       "\\item 10\n",
       "\\item 10\n",
       "\\end{enumerate*}\n"
      ],
      "text/markdown": [
       "1. 10\n",
       "2. 10\n",
       "\n",
       "\n"
      ],
      "text/plain": [
       "[1] 10 10"
      ]
     },
     "metadata": {},
     "output_type": "display_data"
    }
   ],
   "source": [
    "##########  useful\n",
    "cox_results <- apply(cbOSdata[,-c(1,2)] , 2, function(values1){\n",
    "  group=ifelse(values1>median(values1),'Migh','low')\n",
    "  #group=values1\n",
    "  survival_dat <- data.frame(group=group,\n",
    "                             os.status=cbOSdata$PFI,  #CHANGE\n",
    "                             os=cbOSdata$PFI.time,   #CHANGE\n",
    "                             #age=clin$age,\n",
    "                             #gender=gender,\n",
    "                             #stage=stage,\n",
    "                             #smoking=smoking,\n",
    "                             stringsAsFactors = F)\n",
    "  library(survival)\n",
    "  my.surv <- Surv(survival_dat$os,survival_dat$os.status)\n",
    "  #m=coxph(my.surv ~ group+age+gender+stage+smoking, data =  survival_dat)\n",
    "  m=coxph(my.surv ~ group, data =  survival_dat)\n",
    "  beta <- coef(m)\n",
    "  se <- sqrt(diag(vcov(m)))\n",
    "  HR <- exp(beta)\n",
    "  HRse <- HR * se\n",
    "  \n",
    "  #summary(m)\n",
    "  tmp <- round(cbind(coef = beta, se = se, z = beta/se, p = 1 - pchisq((beta/se)^2, 1),\n",
    "                     HR = HR, HRse = HRse,\n",
    "                     HRz = (HR - 1) / HRse, HRp = 1 - pchisq(((HR - 1)/HRse)^2, 1),\n",
    "                     HRCILL = exp(beta - qnorm(.975, 0, 1) * se),\n",
    "                     HRCIUL = exp(beta + qnorm(.975, 0, 1) * se)), 3)\n",
    "  return(tmp['groupMigh',])\n",
    "  \n",
    "})\n",
    "Results.pfi.family=cox_results[,cox_results[4,]<0.05]\n",
    "dim(Results.pfi.family)"
   ]
  },
  {
   "cell_type": "code",
   "execution_count": 82,
   "metadata": {},
   "outputs": [],
   "source": [
    "save(Results.os.family,Results.dfi.family,Results.pfi.family,Results.dss.family,\n",
    "     file=\"/home/zhuxq/nas/Xiaoqiang/opti.data/1.CGC.TE.CRC.REdiscoverTE/stats.20200311/2.survival.TE.screen/survival.screen.family.level.47s.2.RData\")"
   ]
  },
  {
   "cell_type": "code",
   "execution_count": 86,
   "metadata": {},
   "outputs": [
    {
     "data": {
      "text/html": [
       "<style>\n",
       ".list-inline {list-style: none; margin:0; padding: 0}\n",
       ".list-inline>li {display: inline-block}\n",
       ".list-inline>li:not(:last-child)::after {content: \"\\00b7\"; padding: 0 .5ex}\n",
       "</style>\n",
       "<ol class=list-inline><li>617</li><li>6</li></ol>\n"
      ],
      "text/latex": [
       "\\begin{enumerate*}\n",
       "\\item 617\n",
       "\\item 6\n",
       "\\end{enumerate*}\n"
      ],
      "text/markdown": [
       "1. 617\n",
       "2. 6\n",
       "\n",
       "\n"
      ],
      "text/plain": [
       "[1] 617   6"
      ]
     },
     "metadata": {},
     "output_type": "display_data"
    }
   ],
   "source": [
    "###screen at class level\n",
    "#######\n",
    "###############\n",
    "teclass.tumorexp.sel=teclass.tumorexp.filterd[, colnames(teclass.tumorexp.filterd) %in% cdrep.sel$repClass ]\n",
    "teclass.tumorexp.sel=teclass.tumorexp.sel[-which(rownames(teclass.tumorexp.sel)==\"TCGA-CM-4748-01\"),]\n",
    "dim(teclass.tumorexp.sel)"
   ]
  },
  {
   "cell_type": "code",
   "execution_count": 87,
   "metadata": {},
   "outputs": [
    {
     "data": {
      "text/html": [
       "591"
      ],
      "text/latex": [
       "591"
      ],
      "text/markdown": [
       "591"
      ],
      "text/plain": [
       "[1] 591"
      ]
     },
     "metadata": {},
     "output_type": "display_data"
    },
    {
     "data": {
      "text/html": [
       "<style>\n",
       ".list-inline {list-style: none; margin:0; padding: 0}\n",
       ".list-inline>li {display: inline-block}\n",
       ".list-inline>li:not(:last-child)::after {content: \"\\00b7\"; padding: 0 .5ex}\n",
       "</style>\n",
       "<ol class=list-inline><li>10</li><li>6</li></ol>\n"
      ],
      "text/latex": [
       "\\begin{enumerate*}\n",
       "\\item 10\n",
       "\\item 6\n",
       "\\end{enumerate*}\n"
      ],
      "text/markdown": [
       "1. 10\n",
       "2. 6\n",
       "\n",
       "\n"
      ],
      "text/plain": [
       "[1] 10  6"
      ]
     },
     "metadata": {},
     "output_type": "display_data"
    }
   ],
   "source": [
    "#screen for OS\n",
    "#OS\n",
    "surOS.tumor=subset(CRC.survivaldata,OS.time > 0 & OS>= 0)\n",
    "idsur=intersect(rownames(teclass.tumorexp.sel),rownames(surOS.tumor))\n",
    "length(idsur)\n",
    "cbOSdata=cbind(surOS.tumor[idsur,2:3],teclass.tumorexp.sel[idsur,])\n",
    "#\n",
    "##########  useful\n",
    "cox_results <- apply(cbOSdata[,-c(1,2)] , 2, function(values1){\n",
    "  group=ifelse(values1>median(values1),'Migh','low')\n",
    "  #group=values1\n",
    "  survival_dat <- data.frame(group=group,\n",
    "                             os.status=cbOSdata$OS,  #CHANGE\n",
    "                             os=cbOSdata$OS.time,   #CHANGE\n",
    "                             #age=clin$age,\n",
    "                             #gender=gender,\n",
    "                             #stage=stage,\n",
    "                             #smoking=smoking,\n",
    "                             stringsAsFactors = F)\n",
    "  library(survival)\n",
    "  my.surv <- Surv(survival_dat$os,survival_dat$os.status)\n",
    "  #m=coxph(my.surv ~ group+age+gender+stage+smoking, data =  survival_dat)\n",
    "  m=coxph(my.surv ~ group, data =  survival_dat)\n",
    "  beta <- coef(m)\n",
    "  se <- sqrt(diag(vcov(m)))\n",
    "  HR <- exp(beta)\n",
    "  HRse <- HR * se\n",
    "  \n",
    "  #summary(m)\n",
    "  tmp <- round(cbind(coef = beta, se = se, z = beta/se, p = 1 - pchisq((beta/se)^2, 1),\n",
    "                     HR = HR, HRse = HRse,\n",
    "                     HRz = (HR - 1) / HRse, HRp = 1 - pchisq(((HR - 1)/HRse)^2, 1),\n",
    "                     HRCILL = exp(beta - qnorm(.975, 0, 1) * se),\n",
    "                     HRCIUL = exp(beta + qnorm(.975, 0, 1) * se)), 3)\n",
    "  return(tmp['groupMigh',])\n",
    "  \n",
    "})\n",
    "Results.os.class=cox_results\n",
    "dim(Results.os.class)\n"
   ]
  },
  {
   "cell_type": "code",
   "execution_count": 88,
   "metadata": {},
   "outputs": [
    {
     "data": {
      "text/html": [
       "569"
      ],
      "text/latex": [
       "569"
      ],
      "text/markdown": [
       "569"
      ],
      "text/plain": [
       "[1] 569"
      ]
     },
     "metadata": {},
     "output_type": "display_data"
    },
    {
     "data": {
      "text/html": [
       "<style>\n",
       ".list-inline {list-style: none; margin:0; padding: 0}\n",
       ".list-inline>li {display: inline-block}\n",
       ".list-inline>li:not(:last-child)::after {content: \"\\00b7\"; padding: 0 .5ex}\n",
       "</style>\n",
       "<ol class=list-inline><li>10</li><li>6</li></ol>\n"
      ],
      "text/latex": [
       "\\begin{enumerate*}\n",
       "\\item 10\n",
       "\\item 6\n",
       "\\end{enumerate*}\n"
      ],
      "text/markdown": [
       "1. 10\n",
       "2. 6\n",
       "\n",
       "\n"
      ],
      "text/plain": [
       "[1] 10  6"
      ]
     },
     "metadata": {},
     "output_type": "display_data"
    }
   ],
   "source": [
    "#DSS\n",
    "surDSS.tumor=subset(CRC.survivaldata,DSS.time > 0 & DSS >=0)\n",
    "idsur=intersect(rownames(teclass.tumorexp.sel),rownames(surDSS.tumor))\n",
    "length(idsur)\n",
    "cbOSdata=cbind(surDSS.tumor[idsur,4:5],teclass.tumorexp.sel[idsur,])     ####570 SAMPLES\n",
    "#\n",
    "##########  useful\n",
    "cox_results <- apply(cbOSdata[,-c(1,2)] , 2, function(values1){\n",
    "  group=ifelse(values1>median(values1),'Migh','low')\n",
    "  #group=values1\n",
    "  survival_dat <- data.frame(group=group,\n",
    "                             os.status=cbOSdata$DSS,  #CHANGE\n",
    "                             os=cbOSdata$DSS.time,   #CHANGE\n",
    "                             #age=clin$age,\n",
    "                             #gender=gender,\n",
    "                             #stage=stage,\n",
    "                             #smoking=smoking,\n",
    "                             stringsAsFactors = F)\n",
    "  library(survival)\n",
    "  my.surv <- Surv(survival_dat$os,survival_dat$os.status)\n",
    "  #m=coxph(my.surv ~ group+age+gender+stage+smoking, data =  survival_dat)\n",
    "  m=coxph(my.surv ~ group, data =  survival_dat)\n",
    "  beta <- coef(m)\n",
    "  se <- sqrt(diag(vcov(m)))\n",
    "  HR <- exp(beta)\n",
    "  HRse <- HR * se\n",
    "  \n",
    "  #summary(m)\n",
    "  tmp <- round(cbind(coef = beta, se = se, z = beta/se, p = 1 - pchisq((beta/se)^2, 1),\n",
    "                     HR = HR, HRse = HRse,\n",
    "                     HRz = (HR - 1) / HRse, HRp = 1 - pchisq(((HR - 1)/HRse)^2, 1),\n",
    "                     HRCILL = exp(beta - qnorm(.975, 0, 1) * se),\n",
    "                     HRCIUL = exp(beta + qnorm(.975, 0, 1) * se)), 3)\n",
    "  return(tmp['groupMigh',])\n",
    "  \n",
    "})\n",
    "Results.dss.class=cox_results\n",
    "dim(Results.dss.class)"
   ]
  },
  {
   "cell_type": "code",
   "execution_count": 85,
   "metadata": {},
   "outputs": [
    {
     "data": {
      "text/html": [
       "233"
      ],
      "text/latex": [
       "233"
      ],
      "text/markdown": [
       "233"
      ],
      "text/plain": [
       "[1] 233"
      ]
     },
     "metadata": {},
     "output_type": "display_data"
    },
    {
     "data": {
      "text/html": [
       "<style>\n",
       ".list-inline {list-style: none; margin:0; padding: 0}\n",
       ".list-inline>li {display: inline-block}\n",
       ".list-inline>li:not(:last-child)::after {content: \"\\00b7\"; padding: 0 .5ex}\n",
       "</style>\n",
       "<ol class=list-inline><li>10</li><li>6</li></ol>\n"
      ],
      "text/latex": [
       "\\begin{enumerate*}\n",
       "\\item 10\n",
       "\\item 6\n",
       "\\end{enumerate*}\n"
      ],
      "text/markdown": [
       "1. 10\n",
       "2. 6\n",
       "\n",
       "\n"
      ],
      "text/plain": [
       "[1] 10  6"
      ]
     },
     "metadata": {},
     "output_type": "display_data"
    }
   ],
   "source": [
    "#DFI\n",
    "surDFI.tumor=subset(CRC.survivaldata,DFI.time > 0 & DFI >=0)\n",
    "idsur=intersect(rownames(teclass.tumorexp.sel),rownames(surDFI.tumor))\n",
    "length(idsur)\n",
    "cbOSdata=cbind(surDFI.tumor[idsur,6:7],teclass.tumorexp.sel[idsur,])     #####234 SAMPLES\n",
    "#\n",
    "##########  useful\n",
    "cox_results <- apply(cbOSdata[,-c(1,2)] , 2, function(values1){\n",
    "  group=ifelse(values1>median(values1),'Migh','low')\n",
    "  #group=values1\n",
    "  survival_dat <- data.frame(group=group,\n",
    "                             os.status=cbOSdata$DFI,  #CHANGE\n",
    "                             os=cbOSdata$DFI.time,   #CHANGE\n",
    "                             #age=clin$age,\n",
    "                             #gender=gender,\n",
    "                             #stage=stage,\n",
    "                             #smoking=smoking,\n",
    "                             stringsAsFactors = F)\n",
    "  library(survival)\n",
    "  my.surv <- Surv(survival_dat$os,survival_dat$os.status)\n",
    "  #m=coxph(my.surv ~ group+age+gender+stage+smoking, data =  survival_dat)\n",
    "  m=coxph(my.surv ~ group, data =  survival_dat)\n",
    "  beta <- coef(m)\n",
    "  se <- sqrt(diag(vcov(m)))\n",
    "  HR <- exp(beta)\n",
    "  HRse <- HR * se\n",
    "  \n",
    "  #summary(m)\n",
    "  tmp <- round(cbind(coef = beta, se = se, z = beta/se, p = 1 - pchisq((beta/se)^2, 1),\n",
    "                     HR = HR, HRse = HRse,\n",
    "                     HRz = (HR - 1) / HRse, HRp = 1 - pchisq(((HR - 1)/HRse)^2, 1),\n",
    "                     HRCILL = exp(beta - qnorm(.975, 0, 1) * se),\n",
    "                     HRCIUL = exp(beta + qnorm(.975, 0, 1) * se)), 3)\n",
    "  return(tmp['groupMigh',])\n",
    "  \n",
    "})\n",
    "Results.dfi.class=cox_results\n",
    "dim(Results.dfi.class)"
   ]
  },
  {
   "cell_type": "code",
   "execution_count": 89,
   "metadata": {},
   "outputs": [
    {
     "data": {
      "text/html": [
       "589"
      ],
      "text/latex": [
       "589"
      ],
      "text/markdown": [
       "589"
      ],
      "text/plain": [
       "[1] 589"
      ]
     },
     "metadata": {},
     "output_type": "display_data"
    },
    {
     "data": {
      "text/html": [
       "<style>\n",
       ".list-inline {list-style: none; margin:0; padding: 0}\n",
       ".list-inline>li {display: inline-block}\n",
       ".list-inline>li:not(:last-child)::after {content: \"\\00b7\"; padding: 0 .5ex}\n",
       "</style>\n",
       "<ol class=list-inline><li>10</li><li>6</li></ol>\n"
      ],
      "text/latex": [
       "\\begin{enumerate*}\n",
       "\\item 10\n",
       "\\item 6\n",
       "\\end{enumerate*}\n"
      ],
      "text/markdown": [
       "1. 10\n",
       "2. 6\n",
       "\n",
       "\n"
      ],
      "text/plain": [
       "[1] 10  6"
      ]
     },
     "metadata": {},
     "output_type": "display_data"
    }
   ],
   "source": [
    "#PFI PFI.time\n",
    "surPFI.tumor=subset(CRC.survivaldata,PFI.time > 0 & PFI >= 0)\n",
    "idsur=intersect(rownames(teclass.tumorexp.sel),rownames(surPFI.tumor))\n",
    "length(idsur)\n",
    "cbOSdata=cbind(surPFI.tumor[idsur,8:9],teclass.tumorexp.sel[idsur,])     #####590 SAMPPLES\n",
    "##\n",
    "##########  useful\n",
    "cox_results <- apply(cbOSdata[,-c(1,2)] , 2, function(values1){\n",
    "  group=ifelse(values1>median(values1),'Migh','low')\n",
    "  #group=values1\n",
    "  survival_dat <- data.frame(group=group,\n",
    "                             os.status=cbOSdata$PFI,  #CHANGE\n",
    "                             os=cbOSdata$PFI.time,   #CHANGE\n",
    "                             #age=clin$age,\n",
    "                             #gender=gender,\n",
    "                             #stage=stage,\n",
    "                             #smoking=smoking,\n",
    "                             stringsAsFactors = F)\n",
    "  library(survival)\n",
    "  my.surv <- Surv(survival_dat$os,survival_dat$os.status)\n",
    "  #m=coxph(my.surv ~ group+age+gender+stage+smoking, data =  survival_dat)\n",
    "  m=coxph(my.surv ~ group, data =  survival_dat)\n",
    "  beta <- coef(m)\n",
    "  se <- sqrt(diag(vcov(m)))\n",
    "  HR <- exp(beta)\n",
    "  HRse <- HR * se\n",
    "  \n",
    "  #summary(m)\n",
    "  tmp <- round(cbind(coef = beta, se = se, z = beta/se, p = 1 - pchisq((beta/se)^2, 1),\n",
    "                     HR = HR, HRse = HRse,\n",
    "                     HRz = (HR - 1) / HRse, HRp = 1 - pchisq(((HR - 1)/HRse)^2, 1),\n",
    "                     HRCILL = exp(beta - qnorm(.975, 0, 1) * se),\n",
    "                     HRCIUL = exp(beta + qnorm(.975, 0, 1) * se)), 3)\n",
    "  return(tmp['groupMigh',])\n",
    "  \n",
    "})\n",
    "Results.pfi.class=cox_results\n",
    "dim(Results.pfi.class)"
   ]
  },
  {
   "cell_type": "code",
   "execution_count": 90,
   "metadata": {},
   "outputs": [],
   "source": [
    "save(Results.os.class,Results.dfi.class,Results.pfi.class,Results.dss.class,\n",
    "     file=\"/home/zhuxq/nas/Xiaoqiang/opti.data/1.CGC.TE.CRC.REdiscoverTE/stats.20200311/2.survival.TE.screen/survival.screen.class.level.6s.2.RData\")"
   ]
  },
  {
   "cell_type": "code",
   "execution_count": 91,
   "metadata": {},
   "outputs": [
    {
     "data": {
      "text/plain": [
       "            \n",
       "             dfi dss  os pfi\n",
       "  DNA         31  20  20  28\n",
       "  LINE        40  10  15  13\n",
       "  LTR         61 105  79 109\n",
       "  Retroposon   0   4   6   3\n",
       "  Satellite    3   4   1   5\n",
       "  SINE         5  14  10   3"
      ]
     },
     "metadata": {},
     "output_type": "display_data"
    },
    {
     "data": {
      "text/plain": [
       "\n",
       "      DNA      LINE       LTR Satellite      SINE \n",
       "       31        40        61         3         5 "
      ]
     },
     "metadata": {},
     "output_type": "display_data"
    }
   ],
   "source": [
    "######subfamily level\n",
    "#########plot the data\n",
    "###############\n",
    "#\n",
    "sursc=as.data.frame(t(Results.dss))\n",
    "surstat=cbind(sursc, repinfo.sel[rownames(sursc),])\n",
    "surstat$endpoint=rep(\"dss\", times=nrow(surstat))\n",
    "surstat.dss=surstat\n",
    "#\n",
    "sursc=as.data.frame(t(Results.os))\n",
    "surstat=cbind(sursc, repinfo.sel[rownames(sursc),])\n",
    "surstat$endpoint=rep(\"os\", times=nrow(surstat))\n",
    "surstat.os=surstat\n",
    "#\n",
    "sursc=as.data.frame(t(Results.dfi))\n",
    "surstat=cbind(sursc, repinfo.sel[rownames(sursc),])\n",
    "surstat$endpoint=rep(\"dfi\", times=nrow(surstat))\n",
    "surstat.dfi=surstat\n",
    "#\n",
    "sursc=as.data.frame(t(Results.pfi))\n",
    "surstat=cbind(sursc, repinfo.sel[rownames(sursc),])\n",
    "surstat$endpoint=rep(\"pfi\", times=nrow(surstat))\n",
    "surstat.pfi=surstat\n",
    "###\n",
    "cb.data=rbind(surstat.dfi, surstat.dss, surstat.os, surstat.pfi)\n",
    "table(cb.data$repClass,cb.data$endpoint)\n",
    "table(surstat.dfi$repClass)"
   ]
  },
  {
   "cell_type": "code",
   "execution_count": 92,
   "metadata": {},
   "outputs": [
    {
     "data": {
      "text/html": [
       "<strong>png:</strong> 2"
      ],
      "text/latex": [
       "\\textbf{png:} 2"
      ],
      "text/markdown": [
       "**png:** 2"
      ],
      "text/plain": [
       "png \n",
       "  2 "
      ]
     },
     "metadata": {},
     "output_type": "display_data"
    },
    {
     "data": {
      "image/png": "[encoded data removed]",
      "text/plain": [
       "plot without title"
      ]
     },
     "metadata": {
      "image/png": {
       "height": 420,
       "width": 420
      },
      "text/plain": {
       "height": 420,
       "width": 420
      }
     },
     "output_type": "display_data"
    }
   ],
   "source": [
    "# stacked bar chart; Barplot of the count\n",
    "library(easyGgplot2)\n",
    "#cbPalette= c(\"#984ea3\",\"#377eb8\",\"#e41a1c\",\"#4daf4a\",\"#ff7f00\",\"grey\")\n",
    "cbPalette= c(\"#1f78b4\",\"#d95f02\",\"#7570b3\",\"#e7298a\",\"#66a61e\",\"#e6ab02\")\n",
    "pc=ggplot2.barplot(data=cb.data, xName=\"endpoint\",\n",
    "                   #brewerPalette=\"Blues\",\n",
    "                   groupName=\"repClass\")+\n",
    "  scale_fill_manual(values= cbPalette)+theme_classic()+\n",
    "  ylab(\"No.TEs (log rank p value < 0.05)\")+xlab(\"survival endpoint\")\n",
    "generate.PDF <- function(fig) {\n",
    "  pdf(\"/home/zhuxq/nas/Xiaoqiang/opti.data/1.CGC.TE.CRC.REdiscoverTE/stats.20200311/2.survival.TE.screen/stacked.plot.endpoint.2.pdf\",width = 4,height = 5)\n",
    "  print(pc)\n",
    "  dev.off()\n",
    "}\n",
    "generate.PDF(fig)\n",
    "ggplot2.barplot(data=cb.data, xName=\"endpoint\",\n",
    "                   #brewerPalette=\"Blues\",\n",
    "                   groupName=\"repClass\")+\n",
    "  scale_fill_manual(values= cbPalette)+theme_classic()+\n",
    "  ylab(\"No.TEs (log rank p value < 0.05)\")+xlab(\"survival endpoint\")"
   ]
  },
  {
   "cell_type": "code",
   "execution_count": 93,
   "metadata": {},
   "outputs": [
    {
     "data": {
      "text/html": [
       "<strong>png:</strong> 2"
      ],
      "text/latex": [
       "\\textbf{png:} 2"
      ],
      "text/markdown": [
       "**png:** 2"
      ],
      "text/plain": [
       "png \n",
       "  2 "
      ]
     },
     "metadata": {},
     "output_type": "display_data"
    },
    {
     "data": {
      "image/png": "[encoded data removed]",
      "text/plain": [
       "plot without title"
      ]
     },
     "metadata": {
      "image/png": {
       "height": 420,
       "width": 420
      },
      "text/plain": {
       "height": 420,
       "width": 420
      }
     },
     "output_type": "display_data"
    }
   ],
   "source": [
    "library(ggpubr)\n",
    "ggplot(cb.data, aes_string(x=\"repClass\", y=\"HR\", group=\"repClass\")) + \n",
    "    geom_boxplot(aes(fill = repClass), alpha = 0.5,outlier.colour = \"black\",outlier.size = 1,notch = F)+\n",
    "    stat_compare_means(label = \"p.signif\",method = \"kruskal.test\")+\n",
    "    geom_jitter(aes(color = repClass),width = 0.15,size=0.3)+\n",
    "    facet_grid(. ~ endpoint)+theme(axis.text.x = element_text(angle = 45, hjust = 1))+\n",
    "    scale_fill_manual(values=cbPalette)+ # Boxplot fill color\n",
    "    scale_color_manual(values = cbPalette)+ylab(\"Hazard ratio\")\n",
    "\n",
    "ph=ggplot(cb.data, aes_string(x=\"repClass\", y=\"HR\", group=\"repClass\")) + \n",
    "    geom_boxplot(aes(fill = repClass), alpha = 0.5,outlier.colour = \"black\",outlier.size = 1,notch = F)+\n",
    "    stat_compare_means(label = \"p.signif\",method = \"kruskal.test\")+\n",
    "    geom_jitter(aes(color = repClass),width = 0.15,size=0.3)+\n",
    "    facet_grid(. ~ endpoint)+theme(axis.text.x = element_text(angle = 45, hjust = 1))+\n",
    "    scale_fill_manual(values=cbPalette)+ # Boxplot fill color\n",
    "    scale_color_manual(values = cbPalette)+ylab(\"Hazard ratio\")+ggtitle(\"survival at subfamily level\")\n",
    "generate.PDF <- function(fig) {\n",
    "  pdf(\"/home/zhuxq/nas/Xiaoqiang/opti.data/1.CGC.TE.CRC.REdiscoverTE/stats.20200311/2.survival.TE.screen/HR.endpoint.subfamily.2.pdf\",width = 6,height = 5)\n",
    "  print(ph)\n",
    "  dev.off()\n",
    "}\n",
    "generate.PDF(fig)"
   ]
  },
  {
   "cell_type": "code",
   "execution_count": 94,
   "metadata": {},
   "outputs": [
    {
     "data": {
      "text/html": [
       "<table>\n",
       "<caption>A data.frame: 6 × 16</caption>\n",
       "<thead>\n",
       "\t<tr><th></th><th scope=col>coef</th><th scope=col>se</th><th scope=col>z</th><th scope=col>p</th><th scope=col>HR</th><th scope=col>HRse</th><th scope=col>HRz</th><th scope=col>HRp</th><th scope=col>HRCILL</th><th scope=col>HRCIUL</th><th scope=col>repName</th><th scope=col>repFamily</th><th scope=col>repClass</th><th scope=col>repClass.new</th><th scope=col>repClass.new2</th><th scope=col>endpoint</th></tr>\n",
       "\t<tr><th></th><th scope=col>&lt;dbl&gt;</th><th scope=col>&lt;dbl&gt;</th><th scope=col>&lt;dbl&gt;</th><th scope=col>&lt;dbl&gt;</th><th scope=col>&lt;dbl&gt;</th><th scope=col>&lt;dbl&gt;</th><th scope=col>&lt;dbl&gt;</th><th scope=col>&lt;dbl&gt;</th><th scope=col>&lt;dbl&gt;</th><th scope=col>&lt;dbl&gt;</th><th scope=col>&lt;chr&gt;</th><th scope=col>&lt;chr&gt;</th><th scope=col>&lt;chr&gt;</th><th scope=col>&lt;chr&gt;</th><th scope=col>&lt;chr&gt;</th><th scope=col>&lt;chr&gt;</th></tr>\n",
       "</thead>\n",
       "<tbody>\n",
       "\t<tr><th scope=row>ERVL?</th><td>0.880</td><td>0.397</td><td>2.217</td><td>0.027</td><td>2.410</td><td>0.956</td><td>1.475</td><td>0.140</td><td>1.107</td><td>5.245</td><td>LTR55      </td><td>ERVL? </td><td>LTR </td><td>LTR </td><td>LTR </td><td>dfi</td></tr>\n",
       "\t<tr><th scope=row>Gypsy?</th><td>1.002</td><td>0.416</td><td>2.408</td><td>0.016</td><td>2.724</td><td>1.133</td><td>1.521</td><td>0.128</td><td>1.205</td><td>6.157</td><td>LTR85a     </td><td>Gypsy?</td><td>LTR </td><td>LTR </td><td>LTR </td><td>dfi</td></tr>\n",
       "\t<tr><th scope=row>hAT?</th><td>0.992</td><td>0.416</td><td>2.382</td><td>0.017</td><td>2.697</td><td>1.123</td><td>1.511</td><td>0.131</td><td>1.192</td><td>6.101</td><td>MER121     </td><td>hAT?  </td><td>DNA </td><td>DNA </td><td>DNA </td><td>dfi</td></tr>\n",
       "\t<tr><th scope=row>MIR</th><td>0.807</td><td>0.392</td><td>2.060</td><td>0.039</td><td>2.241</td><td>0.878</td><td>1.413</td><td>0.158</td><td>1.040</td><td>4.828</td><td>MIR        </td><td>MIR   </td><td>SINE</td><td>SINE</td><td>SINE</td><td>dfi</td></tr>\n",
       "\t<tr><th scope=row>TcMar?</th><td>0.869</td><td>0.417</td><td>2.083</td><td>0.037</td><td>2.385</td><td>0.995</td><td>1.391</td><td>0.164</td><td>1.053</td><td>5.404</td><td>Eulor8     </td><td>TcMar?</td><td>DNA </td><td>DNA </td><td>DNA </td><td>dfi</td></tr>\n",
       "\t<tr><th scope=row>tRNA</th><td>1.058</td><td>0.404</td><td>2.621</td><td>0.009</td><td>2.880</td><td>1.163</td><td>1.617</td><td>0.106</td><td>1.306</td><td>6.354</td><td>LFSINE_Vert</td><td>tRNA  </td><td>SINE</td><td>SINE</td><td>SINE</td><td>dfi</td></tr>\n",
       "</tbody>\n",
       "</table>\n"
      ],
      "text/latex": [
       "A data.frame: 6 × 16\n",
       "\\begin{tabular}{r|llllllllllllllll}\n",
       "  & coef & se & z & p & HR & HRse & HRz & HRp & HRCILL & HRCIUL & repName & repFamily & repClass & repClass.new & repClass.new2 & endpoint\\\\\n",
       "  & <dbl> & <dbl> & <dbl> & <dbl> & <dbl> & <dbl> & <dbl> & <dbl> & <dbl> & <dbl> & <chr> & <chr> & <chr> & <chr> & <chr> & <chr>\\\\\n",
       "\\hline\n",
       "\tERVL? & 0.880 & 0.397 & 2.217 & 0.027 & 2.410 & 0.956 & 1.475 & 0.140 & 1.107 & 5.245 & LTR55       & ERVL?  & LTR  & LTR  & LTR  & dfi\\\\\n",
       "\tGypsy? & 1.002 & 0.416 & 2.408 & 0.016 & 2.724 & 1.133 & 1.521 & 0.128 & 1.205 & 6.157 & LTR85a      & Gypsy? & LTR  & LTR  & LTR  & dfi\\\\\n",
       "\thAT? & 0.992 & 0.416 & 2.382 & 0.017 & 2.697 & 1.123 & 1.511 & 0.131 & 1.192 & 6.101 & MER121      & hAT?   & DNA  & DNA  & DNA  & dfi\\\\\n",
       "\tMIR & 0.807 & 0.392 & 2.060 & 0.039 & 2.241 & 0.878 & 1.413 & 0.158 & 1.040 & 4.828 & MIR         & MIR    & SINE & SINE & SINE & dfi\\\\\n",
       "\tTcMar? & 0.869 & 0.417 & 2.083 & 0.037 & 2.385 & 0.995 & 1.391 & 0.164 & 1.053 & 5.404 & Eulor8      & TcMar? & DNA  & DNA  & DNA  & dfi\\\\\n",
       "\ttRNA & 1.058 & 0.404 & 2.621 & 0.009 & 2.880 & 1.163 & 1.617 & 0.106 & 1.306 & 6.354 & LFSINE\\_Vert & tRNA   & SINE & SINE & SINE & dfi\\\\\n",
       "\\end{tabular}\n"
      ],
      "text/markdown": [
       "\n",
       "A data.frame: 6 × 16\n",
       "\n",
       "| <!--/--> | coef &lt;dbl&gt; | se &lt;dbl&gt; | z &lt;dbl&gt; | p &lt;dbl&gt; | HR &lt;dbl&gt; | HRse &lt;dbl&gt; | HRz &lt;dbl&gt; | HRp &lt;dbl&gt; | HRCILL &lt;dbl&gt; | HRCIUL &lt;dbl&gt; | repName &lt;chr&gt; | repFamily &lt;chr&gt; | repClass &lt;chr&gt; | repClass.new &lt;chr&gt; | repClass.new2 &lt;chr&gt; | endpoint &lt;chr&gt; |\n",
       "|---|---|---|---|---|---|---|---|---|---|---|---|---|---|---|---|---|\n",
       "| ERVL? | 0.880 | 0.397 | 2.217 | 0.027 | 2.410 | 0.956 | 1.475 | 0.140 | 1.107 | 5.245 | LTR55       | ERVL?  | LTR  | LTR  | LTR  | dfi |\n",
       "| Gypsy? | 1.002 | 0.416 | 2.408 | 0.016 | 2.724 | 1.133 | 1.521 | 0.128 | 1.205 | 6.157 | LTR85a      | Gypsy? | LTR  | LTR  | LTR  | dfi |\n",
       "| hAT? | 0.992 | 0.416 | 2.382 | 0.017 | 2.697 | 1.123 | 1.511 | 0.131 | 1.192 | 6.101 | MER121      | hAT?   | DNA  | DNA  | DNA  | dfi |\n",
       "| MIR | 0.807 | 0.392 | 2.060 | 0.039 | 2.241 | 0.878 | 1.413 | 0.158 | 1.040 | 4.828 | MIR         | MIR    | SINE | SINE | SINE | dfi |\n",
       "| TcMar? | 0.869 | 0.417 | 2.083 | 0.037 | 2.385 | 0.995 | 1.391 | 0.164 | 1.053 | 5.404 | Eulor8      | TcMar? | DNA  | DNA  | DNA  | dfi |\n",
       "| tRNA | 1.058 | 0.404 | 2.621 | 0.009 | 2.880 | 1.163 | 1.617 | 0.106 | 1.306 | 6.354 | LFSINE_Vert | tRNA   | SINE | SINE | SINE | dfi |\n",
       "\n"
      ],
      "text/plain": [
       "       coef  se    z     p     HR    HRse  HRz   HRp   HRCILL HRCIUL\n",
       "ERVL?  0.880 0.397 2.217 0.027 2.410 0.956 1.475 0.140 1.107  5.245 \n",
       "Gypsy? 1.002 0.416 2.408 0.016 2.724 1.133 1.521 0.128 1.205  6.157 \n",
       "hAT?   0.992 0.416 2.382 0.017 2.697 1.123 1.511 0.131 1.192  6.101 \n",
       "MIR    0.807 0.392 2.060 0.039 2.241 0.878 1.413 0.158 1.040  4.828 \n",
       "TcMar? 0.869 0.417 2.083 0.037 2.385 0.995 1.391 0.164 1.053  5.404 \n",
       "tRNA   1.058 0.404 2.621 0.009 2.880 1.163 1.617 0.106 1.306  6.354 \n",
       "       repName     repFamily repClass repClass.new repClass.new2 endpoint\n",
       "ERVL?  LTR55       ERVL?     LTR      LTR          LTR           dfi     \n",
       "Gypsy? LTR85a      Gypsy?    LTR      LTR          LTR           dfi     \n",
       "hAT?   MER121      hAT?      DNA      DNA          DNA           dfi     \n",
       "MIR    MIR         MIR       SINE     SINE         SINE          dfi     \n",
       "TcMar? Eulor8      TcMar?    DNA      DNA          DNA           dfi     \n",
       "tRNA   LFSINE_Vert tRNA      SINE     SINE         SINE          dfi     "
      ]
     },
     "metadata": {},
     "output_type": "display_data"
    }
   ],
   "source": [
    "######family level\n",
    "#########plot the data\n",
    "###############\n",
    "#\n",
    "repf=cdrep.sel[!(duplicated(cdrep.sel$repFamily)),]\n",
    "rownames(repf)=repf$repFamily\n",
    "####\n",
    "sursc=as.data.frame(t(Results.dss.family))\n",
    "surstat=cbind(sursc, repf[rownames(sursc),])\n",
    "surstat$endpoint=rep(\"dss\", times=nrow(surstat))\n",
    "surstat.dss.family=surstat\n",
    "#\n",
    "sursc=as.data.frame(t(Results.os.family))\n",
    "surstat=cbind(sursc, repf[rownames(sursc),])\n",
    "surstat$endpoint=rep(\"os\", times=nrow(surstat))\n",
    "surstat.os.family=surstat\n",
    "#\n",
    "sursc=as.data.frame(t(Results.dfi.family))\n",
    "surstat=cbind(sursc, repf[rownames(sursc),])\n",
    "surstat$endpoint=rep(\"dfi\", times=nrow(surstat))\n",
    "surstat.dfi.family=surstat\n",
    "#\n",
    "sursc=as.data.frame(t(Results.pfi.family))\n",
    "surstat=cbind(sursc, repf[rownames(sursc),])\n",
    "surstat$endpoint=rep(\"pfi\", times=nrow(surstat))\n",
    "surstat.pfi.family=surstat\n",
    "###\n",
    "cb.data.family=rbind(surstat.dfi.family, surstat.dss.family, surstat.os.family, surstat.pfi.family)\n",
    "#cb.data.family$repClass=gsub(pattern = \"[?]\",\"_\",cb.data.family$repClass)\n",
    "#cb.data.family=subset(cb.data.family, !(repClass==\"SINE_\"))\n",
    "head(cb.data.family)"
   ]
  },
  {
   "cell_type": "code",
   "execution_count": 95,
   "metadata": {},
   "outputs": [
    {
     "data": {
      "text/html": [
       "<strong>png:</strong> 2"
      ],
      "text/latex": [
       "\\textbf{png:} 2"
      ],
      "text/markdown": [
       "**png:** 2"
      ],
      "text/plain": [
       "png \n",
       "  2 "
      ]
     },
     "metadata": {},
     "output_type": "display_data"
    },
    {
     "data": {
      "image/png": "[encoded data removed]",
      "text/plain": [
       "plot without title"
      ]
     },
     "metadata": {
      "image/png": {
       "height": 420,
       "width": 420
      },
      "text/plain": {
       "height": 420,
       "width": 420
      }
     },
     "output_type": "display_data"
    }
   ],
   "source": [
    "library(ggpubr)\n",
    "cbPalette= c(\"#1f78b4\",\"#d95f02\",\"#7570b3\",\"#e7298a\",\"#66a61e\",\"#e6ab02\",\"gray\")\n",
    "\n",
    "\n",
    "ggplot(cb.data.family, aes_string(x=\"repClass\", y=\"HR\", group=\"repClass\")) + \n",
    "    geom_boxplot(aes(fill = repClass), alpha = 0.5,outlier.colour = \"black\",outlier.size = 1,notch = F)+\n",
    "    stat_compare_means(label = \"p.signif\",method = \"kruskal.test\")+\n",
    "    geom_jitter(aes(color = repClass),width = 0.15,size=0.3)+\n",
    "    facet_grid(. ~ endpoint)+theme(axis.text.x = element_text(angle = 45, hjust = 1))+\n",
    "    scale_fill_manual(values=cbPalette)+ # Boxplot fill color\n",
    "    scale_color_manual(values = cbPalette)+ylab(\"Hazard ratio\")\n",
    "\n",
    "ph=ggplot(cb.data.family, aes_string(x=\"repClass\", y=\"HR\", group=\"repClass\")) + \n",
    "    geom_boxplot(aes(fill = repClass), alpha = 0.5,outlier.colour = \"black\",outlier.size = 1,notch = F)+\n",
    "    stat_compare_means(label = \"p.signif\",method = \"kruskal.test\")+\n",
    "    geom_jitter(aes(color = repClass),width = 0.15,size=0.3)+\n",
    "    facet_grid(. ~ endpoint)+theme(axis.text.x = element_text(angle = 45, hjust = 1))+\n",
    "    scale_fill_manual(values=cbPalette)+ # Boxplot fill color\n",
    "    scale_color_manual(values = cbPalette)+ylab(\"Hazard ratio\")\n",
    "generate.PDF <- function(fig) {\n",
    "  pdf(\"/home/zhuxq/nas/Xiaoqiang/opti.data/1.CGC.TE.CRC.REdiscoverTE/stats.20200311/2.survival.TE.screen/HR.endpoint.family.2.pdf\",width = 6,height = 5)\n",
    "  print(ph)\n",
    "  dev.off()\n",
    "}\n",
    "generate.PDF(fig)\n"
   ]
  },
  {
   "cell_type": "code",
   "execution_count": 96,
   "metadata": {},
   "outputs": [
    {
     "data": {
      "text/html": [
       "<strong>png:</strong> 2"
      ],
      "text/latex": [
       "\\textbf{png:} 2"
      ],
      "text/markdown": [
       "**png:** 2"
      ],
      "text/plain": [
       "png \n",
       "  2 "
      ]
     },
     "metadata": {},
     "output_type": "display_data"
    },
    {
     "data": {
      "image/png": "[encoded data removed]",
      "text/plain": [
       "plot without title"
      ]
     },
     "metadata": {
      "image/png": {
       "height": 420,
       "width": 420
      },
      "text/plain": {
       "height": 420,
       "width": 420
      }
     },
     "output_type": "display_data"
    }
   ],
   "source": [
    " ggplot(cb.data.family, aes( repFamily,HR, colour = repClass)) + \n",
    "       geom_pointrange(aes(ymin = HRCILL, ymax = HRCIUL))+\n",
    "       facet_grid(. ~ endpoint)+\n",
    "       scale_fill_manual(values=cbPalette)+ # Boxplot fill color\n",
    "       scale_color_manual(values = cbPalette)+theme(axis.text.x = element_text(angle = 45, hjust = 1))+rotate()+ylab(\"Hazard ratio\")\n",
    "#\n",
    " phf=ggplot(cb.data.family, aes( repFamily,HR, colour = repClass)) + \n",
    "       geom_pointrange(aes(ymin = HRCILL, ymax = HRCIUL),fatten = 2)+\n",
    "       facet_grid(. ~ endpoint)+\n",
    "       scale_fill_manual(values=cbPalette)+ # Boxplot fill color\n",
    "       scale_color_manual(values = cbPalette)+\n",
    "       #theme(axis.text.x = element_text(angle = 45, hjust = 1))+\n",
    "       rotate()+ylab(\"Hazard ratio\")+ggtitle(\"survival at repFamily level (n = 47)\")\n",
    "generate.PDF <- function(fig) {\n",
    "  pdf(\"/home/zhuxq/nas/Xiaoqiang/opti.data/1.CGC.TE.CRC.REdiscoverTE/stats.20200311/2.survival.TE.screen/HR.endpoint.family.indi.2.pdf\",\n",
    "      width = 8,height = 4)\n",
    "  print(phf)\n",
    "  dev.off()\n",
    "}\n",
    "generate.PDF(fig)"
   ]
  },
  {
   "cell_type": "code",
   "execution_count": 97,
   "metadata": {},
   "outputs": [
    {
     "data": {
      "text/html": [
       "<table>\n",
       "<caption>A data.frame: 6 × 12</caption>\n",
       "<thead>\n",
       "\t<tr><th></th><th scope=col>coef</th><th scope=col>se</th><th scope=col>z</th><th scope=col>p</th><th scope=col>HR</th><th scope=col>HRse</th><th scope=col>HRz</th><th scope=col>HRp</th><th scope=col>HRCILL</th><th scope=col>HRCIUL</th><th scope=col>endpoint</th><th scope=col>repClass</th></tr>\n",
       "\t<tr><th></th><th scope=col>&lt;dbl&gt;</th><th scope=col>&lt;dbl&gt;</th><th scope=col>&lt;dbl&gt;</th><th scope=col>&lt;dbl&gt;</th><th scope=col>&lt;dbl&gt;</th><th scope=col>&lt;dbl&gt;</th><th scope=col>&lt;dbl&gt;</th><th scope=col>&lt;dbl&gt;</th><th scope=col>&lt;dbl&gt;</th><th scope=col>&lt;dbl&gt;</th><th scope=col>&lt;chr&gt;</th><th scope=col>&lt;chr&gt;</th></tr>\n",
       "</thead>\n",
       "<tbody>\n",
       "\t<tr><th scope=row>DNA</th><td> 0.344</td><td>0.375</td><td> 0.918</td><td>0.358</td><td>1.411</td><td>0.529</td><td> 0.777</td><td>0.437</td><td>0.677</td><td>2.944</td><td>dfi</td><td>DNA       </td></tr>\n",
       "\t<tr><th scope=row>LINE</th><td> 0.618</td><td>0.385</td><td> 1.606</td><td>0.108</td><td>1.855</td><td>0.713</td><td> 1.198</td><td>0.231</td><td>0.873</td><td>3.941</td><td>dfi</td><td>LINE      </td></tr>\n",
       "\t<tr><th scope=row>LTR</th><td> 0.317</td><td>0.374</td><td> 0.847</td><td>0.397</td><td>1.373</td><td>0.514</td><td> 0.726</td><td>0.468</td><td>0.659</td><td>2.860</td><td>dfi</td><td>LTR       </td></tr>\n",
       "\t<tr><th scope=row>Retroposon</th><td> 0.088</td><td>0.373</td><td> 0.236</td><td>0.813</td><td>1.092</td><td>0.408</td><td> 0.226</td><td>0.821</td><td>0.525</td><td>2.270</td><td>dfi</td><td>Retroposon</td></tr>\n",
       "\t<tr><th scope=row>Satellite</th><td> 0.302</td><td>0.375</td><td> 0.806</td><td>0.420</td><td>1.353</td><td>0.507</td><td> 0.696</td><td>0.486</td><td>0.649</td><td>2.822</td><td>dfi</td><td>Satellite </td></tr>\n",
       "\t<tr><th scope=row>SINE</th><td>-0.233</td><td>0.380</td><td>-0.612</td><td>0.540</td><td>0.792</td><td>0.301</td><td>-0.690</td><td>0.490</td><td>0.376</td><td>1.668</td><td>dfi</td><td>SINE      </td></tr>\n",
       "</tbody>\n",
       "</table>\n"
      ],
      "text/latex": [
       "A data.frame: 6 × 12\n",
       "\\begin{tabular}{r|llllllllllll}\n",
       "  & coef & se & z & p & HR & HRse & HRz & HRp & HRCILL & HRCIUL & endpoint & repClass\\\\\n",
       "  & <dbl> & <dbl> & <dbl> & <dbl> & <dbl> & <dbl> & <dbl> & <dbl> & <dbl> & <dbl> & <chr> & <chr>\\\\\n",
       "\\hline\n",
       "\tDNA &  0.344 & 0.375 &  0.918 & 0.358 & 1.411 & 0.529 &  0.777 & 0.437 & 0.677 & 2.944 & dfi & DNA       \\\\\n",
       "\tLINE &  0.618 & 0.385 &  1.606 & 0.108 & 1.855 & 0.713 &  1.198 & 0.231 & 0.873 & 3.941 & dfi & LINE      \\\\\n",
       "\tLTR &  0.317 & 0.374 &  0.847 & 0.397 & 1.373 & 0.514 &  0.726 & 0.468 & 0.659 & 2.860 & dfi & LTR       \\\\\n",
       "\tRetroposon &  0.088 & 0.373 &  0.236 & 0.813 & 1.092 & 0.408 &  0.226 & 0.821 & 0.525 & 2.270 & dfi & Retroposon\\\\\n",
       "\tSatellite &  0.302 & 0.375 &  0.806 & 0.420 & 1.353 & 0.507 &  0.696 & 0.486 & 0.649 & 2.822 & dfi & Satellite \\\\\n",
       "\tSINE & -0.233 & 0.380 & -0.612 & 0.540 & 0.792 & 0.301 & -0.690 & 0.490 & 0.376 & 1.668 & dfi & SINE      \\\\\n",
       "\\end{tabular}\n"
      ],
      "text/markdown": [
       "\n",
       "A data.frame: 6 × 12\n",
       "\n",
       "| <!--/--> | coef &lt;dbl&gt; | se &lt;dbl&gt; | z &lt;dbl&gt; | p &lt;dbl&gt; | HR &lt;dbl&gt; | HRse &lt;dbl&gt; | HRz &lt;dbl&gt; | HRp &lt;dbl&gt; | HRCILL &lt;dbl&gt; | HRCIUL &lt;dbl&gt; | endpoint &lt;chr&gt; | repClass &lt;chr&gt; |\n",
       "|---|---|---|---|---|---|---|---|---|---|---|---|---|\n",
       "| DNA |  0.344 | 0.375 |  0.918 | 0.358 | 1.411 | 0.529 |  0.777 | 0.437 | 0.677 | 2.944 | dfi | DNA        |\n",
       "| LINE |  0.618 | 0.385 |  1.606 | 0.108 | 1.855 | 0.713 |  1.198 | 0.231 | 0.873 | 3.941 | dfi | LINE       |\n",
       "| LTR |  0.317 | 0.374 |  0.847 | 0.397 | 1.373 | 0.514 |  0.726 | 0.468 | 0.659 | 2.860 | dfi | LTR        |\n",
       "| Retroposon |  0.088 | 0.373 |  0.236 | 0.813 | 1.092 | 0.408 |  0.226 | 0.821 | 0.525 | 2.270 | dfi | Retroposon |\n",
       "| Satellite |  0.302 | 0.375 |  0.806 | 0.420 | 1.353 | 0.507 |  0.696 | 0.486 | 0.649 | 2.822 | dfi | Satellite  |\n",
       "| SINE | -0.233 | 0.380 | -0.612 | 0.540 | 0.792 | 0.301 | -0.690 | 0.490 | 0.376 | 1.668 | dfi | SINE       |\n",
       "\n"
      ],
      "text/plain": [
       "           coef   se    z      p     HR    HRse  HRz    HRp   HRCILL HRCIUL\n",
       "DNA         0.344 0.375  0.918 0.358 1.411 0.529  0.777 0.437 0.677  2.944 \n",
       "LINE        0.618 0.385  1.606 0.108 1.855 0.713  1.198 0.231 0.873  3.941 \n",
       "LTR         0.317 0.374  0.847 0.397 1.373 0.514  0.726 0.468 0.659  2.860 \n",
       "Retroposon  0.088 0.373  0.236 0.813 1.092 0.408  0.226 0.821 0.525  2.270 \n",
       "Satellite   0.302 0.375  0.806 0.420 1.353 0.507  0.696 0.486 0.649  2.822 \n",
       "SINE       -0.233 0.380 -0.612 0.540 0.792 0.301 -0.690 0.490 0.376  1.668 \n",
       "           endpoint repClass  \n",
       "DNA        dfi      DNA       \n",
       "LINE       dfi      LINE      \n",
       "LTR        dfi      LTR       \n",
       "Retroposon dfi      Retroposon\n",
       "Satellite  dfi      Satellite \n",
       "SINE       dfi      SINE      "
      ]
     },
     "metadata": {},
     "output_type": "display_data"
    },
    {
     "data": {
      "text/plain": [
       "\n",
       "       DNA       LINE        LTR Retroposon  Satellite       SINE \n",
       "         4          4          4          4          4          4 "
      ]
     },
     "metadata": {},
     "output_type": "display_data"
    }
   ],
   "source": [
    "#####class level\n",
    "####\n",
    "surstat=as.data.frame(t(Results.dss.class))\n",
    "surstat$endpoint=rep(\"dss\", times=nrow(surstat))\n",
    "surstat$repClass=rownames(surstat)\n",
    "surstat.dss.class=surstat\n",
    "#\n",
    "surstat=as.data.frame(t(Results.os.class))\n",
    "surstat$endpoint=rep(\"os\", times=nrow(surstat))\n",
    "surstat$repClass=rownames(surstat)\n",
    "surstat.os.class=surstat\n",
    "#\n",
    "surstat=as.data.frame(t(Results.dfi.class))\n",
    "surstat$endpoint=rep(\"dfi\", times=nrow(surstat))\n",
    "surstat$repClass=rownames(surstat)\n",
    "surstat.dfi.class=surstat\n",
    "#\n",
    "surstat=as.data.frame(t(Results.pfi.class))\n",
    "surstat$endpoint=rep(\"pfi\", times=nrow(surstat))\n",
    "surstat$repClass=rownames(surstat)\n",
    "surstat.pfi.class=surstat\n",
    "###\n",
    "cb.data.class=rbind(surstat.dfi.class, surstat.dss.class, surstat.os.class, surstat.pfi.class)\n",
    "head(cb.data.class)\n",
    "table(cb.data.class$repClass)"
   ]
  },
  {
   "cell_type": "code",
   "execution_count": 98,
   "metadata": {},
   "outputs": [
    {
     "data": {
      "text/html": [
       "<strong>png:</strong> 2"
      ],
      "text/latex": [
       "\\textbf{png:} 2"
      ],
      "text/markdown": [
       "**png:** 2"
      ],
      "text/plain": [
       "png \n",
       "  2 "
      ]
     },
     "metadata": {},
     "output_type": "display_data"
    },
    {
     "data": {
      "image/png": "[encoded data removed]",
      "text/plain": [
       "plot without title"
      ]
     },
     "metadata": {
      "image/png": {
       "height": 420,
       "width": 420
      },
      "text/plain": {
       "height": 420,
       "width": 420
      }
     },
     "output_type": "display_data"
    }
   ],
   "source": [
    " ggplot(cb.data.class, aes( repClass,HR, colour = repClass)) + \n",
    "       geom_pointrange(aes(ymin = HRCILL, ymax = HRCIUL))+\n",
    "       facet_grid(. ~ endpoint)+\n",
    "       scale_fill_manual(values=cbPalette)+ # Boxplot fill color\n",
    "       scale_color_manual(values = cbPalette)+theme(axis.text.x = element_text(angle = 45, hjust = 1))+rotate()+ylab(\"Hazard ratio\")\n",
    "#\n",
    " phf=ggplot(cb.data.class, aes( repClass,HR, colour = repClass)) + \n",
    "       geom_pointrange(aes(ymin = HRCILL, ymax = HRCIUL),fatten = 2)+\n",
    "       facet_grid(. ~ endpoint)+\n",
    "       scale_fill_manual(values=cbPalette)+ # Boxplot fill color\n",
    "       scale_color_manual(values = cbPalette)+\n",
    "       #theme(axis.text.x = element_text(angle = 45, hjust = 1))+\n",
    "       rotate()+ylab(\"Hazard ratio\")+ggtitle(\"survival at class level (n = 6)\")\n",
    "generate.PDF <- function(fig) {\n",
    "  pdf(\"/home/zhuxq/nas/Xiaoqiang/opti.data/1.CGC.TE.CRC.REdiscoverTE/stats.20200311/2.survival.TE.screen/HR.endpoint.class.2.pdf\",\n",
    "      width = 8,height = 4)\n",
    "  print(phf)\n",
    "  dev.off()\n",
    "}\n",
    "generate.PDF(fig)"
   ]
  },
  {
   "cell_type": "code",
   "execution_count": 99,
   "metadata": {},
   "outputs": [
    {
     "name": "stderr",
     "output_type": "stream",
     "text": [
      "Loading required package: grid\n",
      "\n",
      "Loading required package: futile.logger\n",
      "\n",
      "\n",
      "Attaching package: ‘VennDiagram’\n",
      "\n",
      "\n",
      "The following object is masked from ‘package:ggpubr’:\n",
      "\n",
      "    rotate\n",
      "\n",
      "\n"
     ]
    },
    {
     "data": {
      "text/html": [
       "1"
      ],
      "text/latex": [
       "1"
      ],
      "text/markdown": [
       "1"
      ],
      "text/plain": [
       "[1] 1"
      ]
     },
     "metadata": {},
     "output_type": "display_data"
    }
   ],
   "source": [
    "####check the overlapped te among these four endpoints\n",
    "####\n",
    "library(VennDiagram)\n",
    "OS=subset(cb.data, endpoint==\"os\")$repName\n",
    "DSS=subset(cb.data, endpoint==\"dss\")$repName\n",
    "DFI=subset(cb.data, endpoint==\"dfi\")$repName\n",
    "PFI=subset(cb.data, endpoint==\"pfi\")$repName\n",
    "#\n",
    "venn.diagram(x= list(OS = OS, DSS = DSS,DFI = DFI, PFI=PFI), compression =\"lzw\",main=\"sig TEs overlapped among four endpoints\",main.cex = 0.45,\n",
    "             filename = \"/home/zhuxq/nas/Xiaoqiang/opti.data/1.CGC.TE.CRC.REdiscoverTE/stats.20200311/2.survival.TE.screen/venn.subfamily.2.tif\", height = 450,\n",
    "             width = 450,resolution =300,  col =\"transparent\", \n",
    "             fill =c(\"#66c2a5\",\"#fc8d62\",\"#8da0cb\",\"#e78ac3\"),alpha = 0.5, \n",
    "             cex = 0.45,fontfamily = \"serif\", fontface = \"bold\",\n",
    "             #cat.col =c(\"#66c2a5\",\"#fc8d62\",\"#8da0cb\",\"#e78ac3\"), \n",
    "             cat.cex = 0.45,cat.pos = 0, cat.dist = 0.07,cat.fontfamily = \"serif\", \n",
    "             rotation.degree = 0)"
   ]
  },
  {
   "cell_type": "code",
   "execution_count": 100,
   "metadata": {},
   "outputs": [],
   "source": [
    "####check what these overlapped TE belong to \n",
    "#######\n",
    "teso=Reduce(intersect, list(OS,DSS,DFI,PFI))\n",
    "sig.te.overlapped=cdrep[rownames(cdrep) %in% teso,]\n",
    "write.csv(sig.te.overlapped,\n",
    "          \"/home/zhuxq/nas/Xiaoqiang/opti.data/1.CGC.TE.CRC.REdiscoverTE/stats.20200311/2.survival.TE.screen/sig.te.four.endpoints.overlapped.2.csv\")"
   ]
  },
  {
   "cell_type": "code",
   "execution_count": 101,
   "metadata": {},
   "outputs": [],
   "source": [
    "save(cb.data, cb.data.class, cb.data.family, \n",
    "    file=\"/home/zhuxq/nas/Xiaoqiang/opti.data/1.CGC.TE.CRC.REdiscoverTE/stats.20200311/2.survival.TE.screen/sur.res.combined.endpoints.2.RData\")"
   ]
  },
  {
   "cell_type": "code",
   "execution_count": 229,
   "metadata": {},
   "outputs": [],
   "source": [
    "setwd(\"/home/zhuxq/nas/Xiaoqiang/opti.data/1.CGC.TE.CRC.REdiscoverTE/stats.20200311/2.survival.TE.screen\")"
   ]
  },
  {
   "cell_type": "code",
   "execution_count": 102,
   "metadata": {},
   "outputs": [
    {
     "data": {
      "text/plain": [
       "\n",
       "dfi dss  os pfi \n",
       "140 157 131 161 "
      ]
     },
     "metadata": {},
     "output_type": "display_data"
    }
   ],
   "source": [
    "table(cb.data$endpoint)"
   ]
  },
  {
   "cell_type": "code",
   "execution_count": 104,
   "metadata": {},
   "outputs": [
    {
     "data": {
      "text/html": [
       "'/home/zhuxq/nas/Xiaoqiang/opti.data/1.CGC.TE.CRC.REdiscoverTE/stats.20200311/2.survival.TE.screen'"
      ],
      "text/latex": [
       "'/home/zhuxq/nas/Xiaoqiang/opti.data/1.CGC.TE.CRC.REdiscoverTE/stats.20200311/2.survival.TE.screen'"
      ],
      "text/markdown": [
       "'/home/zhuxq/nas/Xiaoqiang/opti.data/1.CGC.TE.CRC.REdiscoverTE/stats.20200311/2.survival.TE.screen'"
      ],
      "text/plain": [
       "[1] \"/home/zhuxq/nas/Xiaoqiang/opti.data/1.CGC.TE.CRC.REdiscoverTE/stats.20200311/2.survival.TE.screen\""
      ]
     },
     "metadata": {},
     "output_type": "display_data"
    }
   ],
   "source": [
    "getwd()"
   ]
  },
  {
   "cell_type": "code",
   "execution_count": null,
   "metadata": {},
   "outputs": [],
   "source": []
  }
 ],
 "metadata": {
  "kernelspec": {
   "display_name": "R",
   "language": "R",
   "name": "ir"
  },
  "language_info": {
   "codemirror_mode": "r",
   "file_extension": ".r",
   "mimetype": "text/x-r-source",
   "name": "R",
   "pygments_lexer": "r",
   "version": "3.5.1"
  }
 },
 "nbformat": 4,
 "nbformat_minor": 2
}
